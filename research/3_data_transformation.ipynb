{
 "cells": [
  {
   "cell_type": "code",
   "execution_count": 1,
   "id": "initial_id",
   "metadata": {
    "collapsed": true,
    "ExecuteTime": {
     "end_time": "2025-01-08T06:46:28.408294Z",
     "start_time": "2025-01-08T06:46:28.402133Z"
    }
   },
   "outputs": [
    {
     "data": {
      "text/plain": "'/Users/jeromeamos/Desktop/icare/MLops/datascienceproject/research'"
     },
     "execution_count": 1,
     "metadata": {},
     "output_type": "execute_result"
    }
   ],
   "source": [
    "import os\n",
    "%pwd\n"
   ]
  },
  {
   "cell_type": "code",
   "outputs": [
    {
     "data": {
      "text/plain": "'/Users/jeromeamos/Desktop/icare/MLops/datascienceproject'"
     },
     "execution_count": 2,
     "metadata": {},
     "output_type": "execute_result"
    }
   ],
   "source": [
    "os.chdir(\"../\")\n",
    "%pwd"
   ],
   "metadata": {
    "collapsed": false,
    "ExecuteTime": {
     "end_time": "2025-01-08T06:46:29.098299Z",
     "start_time": "2025-01-08T06:46:29.094799Z"
    }
   },
   "id": "b9902794e88c5177",
   "execution_count": 2
  },
  {
   "cell_type": "code",
   "outputs": [],
   "source": [
    "from dataclasses import dataclass\n",
    "from pathlib import Path\n",
    "\n",
    "@dataclass\n",
    "class DataTransformationConfig:\n",
    "    root_dir: Path\n",
    "    data_path: Path"
   ],
   "metadata": {
    "collapsed": false,
    "ExecuteTime": {
     "end_time": "2025-01-08T06:51:31.648163Z",
     "start_time": "2025-01-08T06:51:31.645770Z"
    }
   },
   "id": "7859fc75d20cb62d",
   "execution_count": 3
  },
  {
   "cell_type": "code",
   "outputs": [],
   "source": [
    "from src.datascience.constants import *\n",
    "from src.datascience.utils.common import read_yaml, create_directories\n"
   ],
   "metadata": {
    "collapsed": false,
    "ExecuteTime": {
     "end_time": "2025-01-08T06:59:51.111204Z",
     "start_time": "2025-01-08T06:59:50.954006Z"
    }
   },
   "id": "2a7035101ce4a0f",
   "execution_count": 4
  },
  {
   "cell_type": "code",
   "outputs": [],
   "source": [
    "class ConfigurationManager:\n",
    "    def __init__(self, \n",
    "                 config_filepath=CONFIG_FILE_PATH,\n",
    "                 param_filepath = PARAMS_FILE_PATH,\n",
    "                 schema_filepath = SCHEMA_FILE_PATH):\n",
    "        self.config = read_yaml(config_filepath) #return a configbox\n",
    "        self.param = read_yaml(param_filepath)\n",
    "        self.schema = read_yaml(schema_filepath)\n",
    "        \n",
    "        create_directories([self.config.artifacts_root])\n",
    "        \n",
    "    def get_data_transformation_config(self) -> DataTransformationConfig:\n",
    "        config = self.config.data_transformation\n",
    "        create_directories([config.root_dir])\n",
    "        \n",
    "        data_transformation_config = DataTransformationConfig(\n",
    "            root_dir = config.root_dir,\n",
    "            data_path = config.data_path\n",
    "        )\n",
    "        return data_transformation_config"
   ],
   "metadata": {
    "collapsed": false,
    "ExecuteTime": {
     "end_time": "2025-01-08T07:15:32.112328Z",
     "start_time": "2025-01-08T07:15:32.108614Z"
    }
   },
   "id": "14a2b64eddbcf5e5",
   "execution_count": 10
  },
  {
   "cell_type": "code",
   "outputs": [],
   "source": [
    "import os\n",
    "from src.datascience import logger\n",
    "from sklearn.model_selection import train_test_split\n",
    "import pandas as pd"
   ],
   "metadata": {
    "collapsed": false,
    "ExecuteTime": {
     "end_time": "2025-01-08T07:15:32.551559Z",
     "start_time": "2025-01-08T07:15:32.549711Z"
    }
   },
   "id": "d1a5b337f2fe08d7",
   "execution_count": 11
  },
  {
   "cell_type": "code",
   "outputs": [],
   "source": [
    "class DataTransformation:\n",
    "    def __init__(self, config: DataTransformationConfig):\n",
    "        self.config = config\n",
    "        \n",
    "    ## Note: you can add different data transformation techniques such as Scaler, PCA and all. You can perform all kinds of EDA in ML cycle before passing this data to the model\n",
    "    \n",
    "    # in this case data are clean, just split it.\n",
    "    def train_test_splitting(self):\n",
    "        data=pd.read_csv(self.config.data_path)\n",
    "        train, test = train_test_split(data) # split 0.75-0.25\n",
    "        train.to_csv(os.path.join(self.config.root_dir, \"train.csv\"), index=False)\n",
    "        test.to_csv(os.path.join(self.config.root_dir, \"test.csv\"), index=False)\n",
    "        \n",
    "        logger.info(\"Splited data into training and test sets\")\n",
    "        logger.info(f\"train shape : {train.shape}\")\n",
    "        logger.info(f\"test shape : {test.shape}\")\n",
    "        \n",
    "        print(train.shape)\n",
    "        print(test.shape)\n",
    "        "
   ],
   "metadata": {
    "collapsed": false,
    "ExecuteTime": {
     "end_time": "2025-01-08T07:15:32.852989Z",
     "start_time": "2025-01-08T07:15:32.848887Z"
    }
   },
   "id": "415e1df3c333deb6",
   "execution_count": 12
  },
  {
   "cell_type": "code",
   "outputs": [
    {
     "name": "stdout",
     "output_type": "stream",
     "text": [
      "[2025-01-08 08:15:33,220:  INFO: common: yaml file: config/config.yaml loaded successfully]\n",
      "[2025-01-08 08:15:33,221:  INFO: common: yaml file: params.yaml loaded successfully]\n",
      "[2025-01-08 08:15:33,222:  INFO: common: yaml file: schema.yaml loaded successfully]\n",
      "[2025-01-08 08:15:33,222:  INFO: common: created directory at: artifacts]\n",
      "[2025-01-08 08:15:33,223:  INFO: common: created directory at: artifacts/data_transformation]\n",
      "[2025-01-08 08:15:33,237:  INFO: 237186682: Splited data into training and test sets]\n",
      "[2025-01-08 08:15:33,237:  INFO: 237186682: train shape : (1199, 12)]\n",
      "[2025-01-08 08:15:33,237:  INFO: 237186682: test shape : (400, 12)]\n",
      "(1199, 12)\n",
      "(400, 12)\n"
     ]
    }
   ],
   "source": [
    "try:\n",
    "    config = ConfigurationManager()\n",
    "    data_transformation_config = config.get_data_transformation_config()\n",
    "    data_transformation = DataTransformation(config=data_transformation_config)\n",
    "    data_transformation.train_test_splitting()\n",
    "except Exception as e:\n",
    "    raise e"
   ],
   "metadata": {
    "collapsed": false,
    "ExecuteTime": {
     "end_time": "2025-01-08T07:15:33.239092Z",
     "start_time": "2025-01-08T07:15:33.218823Z"
    }
   },
   "id": "636b1a91437f1190",
   "execution_count": 13
  },
  {
   "cell_type": "code",
   "outputs": [],
   "source": [],
   "metadata": {
    "collapsed": false
   },
   "id": "31b34ad90f2b0d60"
  }
 ],
 "metadata": {
  "kernelspec": {
   "display_name": "Python 3",
   "language": "python",
   "name": "python3"
  },
  "language_info": {
   "codemirror_mode": {
    "name": "ipython",
    "version": 2
   },
   "file_extension": ".py",
   "mimetype": "text/x-python",
   "name": "python",
   "nbconvert_exporter": "python",
   "pygments_lexer": "ipython2",
   "version": "2.7.6"
  }
 },
 "nbformat": 4,
 "nbformat_minor": 5
}
